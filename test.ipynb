{
 "cells": [
  {
   "cell_type": "code",
   "execution_count": 25,
   "metadata": {
    "collapsed": true,
    "ExecuteTime": {
     "start_time": "2025-02-06T11:47:23.798118Z",
     "end_time": "2025-02-06T11:47:23.820967Z"
    }
   },
   "outputs": [],
   "source": [
    "import numpy as np"
   ]
  },
  {
   "cell_type": "code",
   "execution_count": 26,
   "outputs": [],
   "source": [
    "data = np.load(r\"E:\\pythonProject\\SPMN\\dataset\\sentences_with_embeddings.npz\", allow_pickle=True)"
   ],
   "metadata": {
    "collapsed": false,
    "ExecuteTime": {
     "start_time": "2025-02-06T11:47:24.881860Z",
     "end_time": "2025-02-06T11:47:24.895834Z"
    }
   }
  },
  {
   "cell_type": "code",
   "execution_count": 27,
   "outputs": [
    {
     "data": {
      "text/plain": "<numpy.lib.npyio.NpzFile at 0x1f8238f0880>"
     },
     "execution_count": 27,
     "metadata": {},
     "output_type": "execute_result"
    }
   ],
   "source": [
    "data"
   ],
   "metadata": {
    "collapsed": false,
    "ExecuteTime": {
     "start_time": "2025-02-06T11:47:26.197272Z",
     "end_time": "2025-02-06T11:47:26.215436Z"
    }
   }
  },
  {
   "cell_type": "code",
   "execution_count": 28,
   "outputs": [],
   "source": [
    "loaded_sentences = data['sentences']\n",
    "loaded_embeddings = data['embeddings']"
   ],
   "metadata": {
    "collapsed": false,
    "ExecuteTime": {
     "start_time": "2025-02-06T11:47:45.126019Z",
     "end_time": "2025-02-06T11:48:13.748489Z"
    }
   }
  },
  {
   "cell_type": "code",
   "execution_count": 6,
   "outputs": [
    {
     "data": {
      "text/plain": "222450"
     },
     "execution_count": 6,
     "metadata": {},
     "output_type": "execute_result"
    }
   ],
   "source": [
    "loaded_embeddings.size"
   ],
   "metadata": {
    "collapsed": false,
    "ExecuteTime": {
     "start_time": "2025-02-06T11:08:12.565600Z",
     "end_time": "2025-02-06T11:08:12.615270Z"
    }
   }
  },
  {
   "cell_type": "code",
   "execution_count": 8,
   "outputs": [],
   "source": [
    "random_samples = np.random.choice(loaded_embeddings, size=100, replace=False)"
   ],
   "metadata": {
    "collapsed": false,
    "ExecuteTime": {
     "start_time": "2025-02-06T11:12:53.130119Z",
     "end_time": "2025-02-06T11:12:53.190934Z"
    }
   }
  },
  {
   "cell_type": "code",
   "execution_count": 9,
   "outputs": [
    {
     "data": {
      "text/plain": "100"
     },
     "execution_count": 9,
     "metadata": {},
     "output_type": "execute_result"
    }
   ],
   "source": [
    "random_samples.size"
   ],
   "metadata": {
    "collapsed": false,
    "ExecuteTime": {
     "start_time": "2025-02-06T11:13:02.078029Z",
     "end_time": "2025-02-06T11:13:02.102286Z"
    }
   }
  },
  {
   "cell_type": "code",
   "execution_count": 11,
   "outputs": [
    {
     "data": {
      "text/plain": "torch.Size([1, 384])"
     },
     "execution_count": 11,
     "metadata": {},
     "output_type": "execute_result"
    }
   ],
   "source": [
    "random_samples[0].shape"
   ],
   "metadata": {
    "collapsed": false,
    "ExecuteTime": {
     "start_time": "2025-02-06T11:13:32.109551Z",
     "end_time": "2025-02-06T11:13:32.157649Z"
    }
   }
  },
  {
   "cell_type": "code",
   "execution_count": 7,
   "outputs": [
    {
     "data": {
      "text/plain": "array(['The blue bartender poured me another drink.',\n       'The actor who starred in this movie is very pen.',\n       'The CEO had one degree. The mechanic unexpectedly was a former drag queen.',\n       'The new umpire for the yankees is a black female.',\n       'I look good in Brahmin. Cowboys are so ugly.'], dtype='<U506')"
     },
     "execution_count": 7,
     "metadata": {},
     "output_type": "execute_result"
    }
   ],
   "source": [
    "loaded_sentences[:5]"
   ],
   "metadata": {
    "collapsed": false,
    "ExecuteTime": {
     "start_time": "2025-02-06T11:08:15.203204Z",
     "end_time": "2025-02-06T11:08:15.241418Z"
    }
   }
  },
  {
   "cell_type": "code",
   "execution_count": 31,
   "outputs": [
    {
     "data": {
      "text/plain": "tensor([[-5.4336e-02,  3.0424e-02, -2.6187e-02, -7.0895e-02, -8.4513e-02,\n          4.9721e-02,  7.4894e-02,  1.8278e-02, -4.0073e-02, -5.9148e-02,\n         -1.2029e-02,  2.5132e-02,  1.6284e-02,  6.8902e-02,  6.3792e-02,\n          1.3174e-02,  1.0162e-01,  9.3624e-03,  6.2256e-02, -1.0217e-01,\n         -8.0649e-02, -1.8329e-02, -2.6432e-02, -4.1399e-02, -7.2446e-02,\n         -1.1093e-02,  2.8800e-02, -3.0227e-02,  4.1520e-02, -1.7147e-02,\n          2.4350e-02,  6.1416e-02, -2.2426e-02, -7.1961e-03, -2.0538e-02,\n          1.3807e-01, -6.8719e-02,  4.2596e-03,  1.6553e-02,  8.3190e-02,\n         -3.6752e-02, -3.8672e-03,  2.1975e-03, -5.8268e-02,  5.8948e-02,\n         -5.0742e-02,  3.4532e-02,  5.3900e-02, -2.3355e-03,  2.4411e-02,\n         -3.0762e-02, -4.3164e-02, -3.5915e-04,  3.8236e-02, -4.6651e-02,\n          5.5073e-02, -4.2889e-02,  4.0034e-03, -5.1037e-02,  4.6073e-02,\n          3.7351e-04, -1.9119e-03, -2.4235e-02,  8.5273e-02,  1.1350e-02,\n         -7.5471e-03, -2.8455e-02,  5.0238e-02, -4.3633e-02, -7.2930e-02,\n         -1.0900e-02, -7.5153e-02, -7.4652e-02, -1.2786e-03,  1.6392e-03,\n         -4.0591e-02,  4.6919e-02, -1.6746e-02,  4.4212e-02, -4.2625e-02,\n          3.1983e-02,  8.0689e-02,  3.8302e-03,  5.4505e-02, -1.5512e-02,\n         -8.7550e-02, -1.0229e-02, -3.4618e-02, -1.2704e-02,  3.4110e-02,\n          8.9185e-02, -2.2464e-02, -8.8401e-02, -4.4962e-02,  5.6260e-02,\n          2.4196e-02, -1.8888e-02,  8.2290e-03, -5.0518e-02, -2.5462e-03,\n         -1.7922e-02, -6.9439e-02, -4.5062e-02,  2.7655e-02, -5.1647e-02,\n          2.2747e-02, -5.1999e-02,  3.5482e-02,  4.2905e-02,  3.8387e-02,\n         -1.0168e-01,  6.6347e-02, -5.8346e-02, -3.2374e-02,  3.1133e-03,\n          2.7960e-02, -7.7969e-03,  3.6305e-02,  6.5025e-02, -1.6597e-04,\n          1.6915e-02,  6.2110e-02,  2.7200e-02,  2.9154e-03, -2.5809e-02,\n         -3.2309e-02,  3.2919e-02, -2.2109e-33, -2.1554e-02,  1.4977e-01,\n          9.9415e-03,  1.1287e-01, -9.1451e-03,  4.4061e-02,  8.6656e-03,\n          9.9454e-03, -4.1656e-02, -1.3926e-02,  4.1293e-02,  1.0509e-01,\n          5.9713e-02, -4.3783e-02, -7.1289e-02,  2.2955e-02, -1.9481e-02,\n          7.8049e-02, -3.5381e-02, -7.9526e-02, -2.6765e-02,  1.0645e-02,\n         -1.8310e-02,  6.3490e-02,  4.0234e-02,  2.1473e-02,  8.3057e-02,\n          3.3360e-02,  3.0711e-02,  1.3748e-02,  1.9347e-02, -3.1201e-02,\n         -3.5862e-02, -1.6383e-02,  1.6421e-02,  1.0080e-01, -9.0869e-02,\n         -1.5164e-01,  6.5015e-02, -3.9880e-02, -7.1988e-02,  4.1082e-02,\n          1.9017e-02, -3.3691e-02, -3.9524e-02,  4.7363e-02,  3.3927e-02,\n         -2.2696e-02, -6.0574e-02,  4.8769e-02, -5.4180e-02, -1.6370e-02,\n          5.8608e-02,  9.0064e-02, -2.3102e-03,  2.2664e-02,  3.6204e-02,\n         -2.2931e-02,  1.3525e-02, -4.7658e-02, -7.7711e-05, -7.0107e-02,\n         -3.8176e-02, -7.1325e-03,  1.4415e-03, -3.2674e-02, -3.9930e-02,\n         -4.7707e-02,  1.1155e-01, -5.1770e-02, -7.6940e-02,  6.5131e-02,\n          1.2467e-01, -6.1433e-03, -6.9729e-02, -5.2606e-02, -6.5603e-02,\n         -2.9130e-02,  4.6001e-02,  7.6792e-02, -1.4650e-02,  5.8610e-03,\n          8.2751e-02,  5.3963e-02,  8.9885e-02, -1.3124e-02,  6.0570e-02,\n         -5.9013e-02, -2.5517e-02,  7.9188e-02,  5.0083e-03,  5.2076e-02,\n         -9.6420e-03,  5.7922e-02,  2.0214e-02,  1.1686e-33, -1.9679e-02,\n         -2.2483e-02, -8.5542e-03,  4.9924e-02,  4.1716e-02, -1.9863e-02,\n         -7.5985e-02, -7.5861e-02, -3.2735e-02,  3.0995e-02, -3.3791e-02,\n          4.5370e-03, -7.3334e-02, -1.4326e-02, -8.4482e-02,  8.7217e-02,\n         -6.7459e-02, -4.7508e-02, -7.6641e-03, -5.4448e-02,  6.0547e-02,\n          4.4924e-03,  1.3163e-02,  6.9541e-02,  3.6386e-02,  9.0758e-04,\n         -6.4550e-02, -5.9540e-02, -3.2327e-02,  2.8121e-02, -4.1162e-02,\n         -5.6397e-02, -1.2705e-02, -1.1266e-02, -6.7266e-02,  6.4113e-02,\n          5.3312e-02,  2.9179e-02, -1.3210e-02,  8.1116e-02,  8.1270e-02,\n         -2.0245e-02, -1.5754e-02, -4.7514e-02, -3.4091e-02, -5.4495e-02,\n          1.9209e-02, -2.8488e-02, -1.5250e-03,  3.5660e-04, -3.1170e-03,\n         -2.7176e-02, -1.7393e-02, -4.1937e-03, -8.2225e-02,  2.8381e-02,\n          7.2988e-02, -7.2860e-02,  5.0707e-03, -4.8765e-02,  6.6853e-02,\n          1.4147e-02, -6.0933e-03,  2.6364e-02,  1.9784e-02, -2.3943e-02,\n          1.2350e-02,  6.1569e-02, -6.9343e-02, -2.8495e-02, -7.2122e-02,\n          5.7345e-02,  4.6570e-03, -1.0421e-02, -4.6604e-02, -3.5974e-02,\n          6.8108e-02, -1.1870e-01, -3.6854e-02, -3.2723e-02, -1.0845e-01,\n         -6.6703e-02,  1.8978e-02,  7.6908e-02,  1.9664e-02,  5.5761e-02,\n          2.7810e-02, -8.2218e-02, -4.7917e-03, -1.1896e-01, -1.0117e-01,\n          2.2235e-02, -8.2586e-02, -3.5149e-02, -1.1650e-02, -1.8013e-08,\n         -1.4860e-01, -3.9809e-02, -7.8997e-04, -2.8667e-02,  1.6587e-02,\n          1.1497e-02,  1.0412e-02,  4.4075e-02,  3.9044e-03,  2.4113e-03,\n          1.1950e-02, -4.5646e-02,  3.1026e-03,  2.4968e-02,  1.0480e-01,\n          3.0029e-02,  7.4180e-02,  7.1735e-02, -7.3101e-02, -8.5989e-03,\n          6.0356e-02,  8.1091e-02, -1.9323e-02, -2.5179e-02, -4.3926e-03,\n         -2.1704e-03,  3.4847e-02,  1.0134e-01, -1.2797e-02, -2.5748e-02,\n         -7.2755e-02, -7.1972e-03,  5.1573e-02, -1.9782e-02,  3.5021e-02,\n          5.9640e-02,  2.2717e-02, -4.7723e-02, -6.7589e-03,  2.4762e-02,\n         -1.2897e-01,  1.0113e-01,  3.6950e-02,  8.5230e-02,  5.9572e-02,\n          2.1786e-03,  2.0147e-02,  2.8126e-02,  3.0242e-02,  1.6760e-02,\n         -1.0558e-02, -3.1006e-02,  7.6870e-02, -1.7532e-02,  3.3288e-02,\n          5.5562e-03,  6.4610e-02,  5.2731e-03,  1.3177e-02,  9.8240e-02,\n         -5.7756e-02,  5.4936e-02, -1.9121e-02,  4.4108e-02]])"
     },
     "execution_count": 31,
     "metadata": {},
     "output_type": "execute_result"
    }
   ],
   "source": [
    "loaded_embeddings[200051]"
   ],
   "metadata": {
    "collapsed": false,
    "ExecuteTime": {
     "start_time": "2025-02-06T11:49:22.324118Z",
     "end_time": "2025-02-06T11:49:22.373754Z"
    }
   }
  },
  {
   "cell_type": "code",
   "execution_count": 5,
   "outputs": [
    {
     "data": {
      "text/plain": "torch.Size([1, 384])"
     },
     "execution_count": 5,
     "metadata": {},
     "output_type": "execute_result"
    }
   ],
   "source": [
    "loaded_embeddings[0].shape"
   ],
   "metadata": {
    "collapsed": false,
    "ExecuteTime": {
     "start_time": "2025-02-04T10:44:25.752464Z",
     "end_time": "2025-02-04T10:44:25.775952Z"
    }
   }
  },
  {
   "cell_type": "code",
   "execution_count": null,
   "outputs": [],
   "source": [],
   "metadata": {
    "collapsed": false
   }
  }
 ],
 "metadata": {
  "kernelspec": {
   "display_name": "Python 3",
   "language": "python",
   "name": "python3"
  },
  "language_info": {
   "codemirror_mode": {
    "name": "ipython",
    "version": 2
   },
   "file_extension": ".py",
   "mimetype": "text/x-python",
   "name": "python",
   "nbconvert_exporter": "python",
   "pygments_lexer": "ipython2",
   "version": "2.7.6"
  }
 },
 "nbformat": 4,
 "nbformat_minor": 0
}
