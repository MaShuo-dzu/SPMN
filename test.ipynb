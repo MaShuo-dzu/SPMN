{
 "cells": [
  {
   "cell_type": "code",
   "execution_count": null,
   "metadata": {
    "collapsed": true,
    "ExecuteTime": {
     "start_time": "2025-02-07T14:57:30.557881Z",
     "end_time": "2025-02-07T14:57:32.551773Z"
    }
   },
   "outputs": [],
   "source": [
    "from torch.utils.data import DataLoader\n",
    "from utils.data import AgentTrainLoaderData\n",
    "import torch\n",
    "from utils.dataloader import AgentTrainDataset"
   ]
  },
  {
   "cell_type": "code",
   "execution_count": null,
   "outputs": [],
   "source": [
    "npz_dir = r\"./dataset/sentence/100\"\n",
    "dataset = AgentTrainDataset(npz_dir, r\"./dataset\\sentences_with_embeddings.npz\")"
   ],
   "metadata": {
    "collapsed": false,
    "ExecuteTime": {
     "start_time": "2025-02-07T14:57:34.818664Z",
     "end_time": "2025-02-07T14:58:26.316099Z"
    }
   }
  },
  {
   "cell_type": "code",
   "execution_count": null,
   "outputs": [],
   "source": [
    "def custom_collate_fn(batch):\n",
    "    batchs = []\n",
    "\n",
    "    for col in zip(*batch):\n",
    "        embeddings = []\n",
    "        targets = []\n",
    "        for j in range(len(batch)):  # batch size\n",
    "            embedding = col[j].embedding\n",
    "            target = col[j].target\n",
    "\n",
    "            embeddings.append(embedding)\n",
    "            targets.append(target)\n",
    "\n",
    "        atld = AgentTrainLoaderData(torch.cat(embeddings, dim=0), targets)\n",
    "        batchs.append(atld)\n",
    "\n",
    "    return batchs, len(batch)"
   ],
   "metadata": {
    "collapsed": false,
    "ExecuteTime": {
     "start_time": "2025-02-07T15:26:32.166455Z",
     "end_time": "2025-02-07T15:26:32.169047Z"
    }
   }
  },
  {
   "cell_type": "code",
   "execution_count": null,
   "outputs": [],
   "source": [
    "train_kwargs = {}\n",
    "dataloader = DataLoader(dataset, batch_size=6, shuffle=False, collate_fn=custom_collate_fn, **train_kwargs)"
   ],
   "metadata": {
    "collapsed": false,
    "ExecuteTime": {
     "start_time": "2025-02-07T15:26:32.648015Z",
     "end_time": "2025-02-07T15:26:32.656150Z"
    }
   }
  },
  {
   "cell_type": "code",
   "execution_count": null,
   "outputs": [],
   "source": [
    "len(dataloader)"
   ],
   "metadata": {
    "collapsed": false,
    "ExecuteTime": {
     "start_time": "2025-02-07T15:26:33.056332Z",
     "end_time": "2025-02-07T15:26:33.064002Z"
    }
   }
  },
  {
   "cell_type": "code",
   "execution_count": 34,
   "outputs": [
    {
     "name": "stdout",
     "output_type": "stream",
     "text": [
      "100 6\n",
      "torch.Size([1, 1, 386])\n",
      "100 6\n",
      "torch.Size([1, 3, 386])\n",
      "100 6\n",
      "torch.Size([1, 1, 386])\n",
      "100 6\n",
      "torch.Size([1, 5, 386])\n",
      "100 6\n",
      "torch.Size([1, 6, 386])\n",
      "100 6\n",
      "torch.Size([1, 1, 386])\n",
      "100 6\n",
      "torch.Size([1, 3, 386])\n",
      "100 6\n",
      "torch.Size([1, 1, 386])\n",
      "100 6\n",
      "torch.Size([1, 3, 386])\n",
      "100 6\n",
      "torch.Size([1, 8, 386])\n",
      "100 6\n",
      "torch.Size([1, 3, 386])\n",
      "100 6\n",
      "torch.Size([1, 1, 386])\n",
      "100 6\n",
      "torch.Size([1, 1, 386])\n",
      "100 6\n",
      "torch.Size([1, 6, 386])\n",
      "100 6\n",
      "torch.Size([1, 0, 2])\n",
      "100 6\n",
      "torch.Size([1, 7, 386])\n",
      "100 6\n",
      "torch.Size([1, 5, 386])\n",
      "100 6\n",
      "torch.Size([1, 8, 386])\n",
      "100 6\n",
      "torch.Size([1, 6, 386])\n",
      "100 6\n",
      "torch.Size([1, 3, 386])\n",
      "100 6\n",
      "torch.Size([1, 3, 386])\n",
      "100 6\n",
      "torch.Size([1, 3, 386])\n",
      "100 6\n",
      "torch.Size([1, 5, 386])\n",
      "100 6\n",
      "torch.Size([1, 9, 386])\n",
      "100 6\n",
      "torch.Size([1, 2, 386])\n",
      "100 6\n",
      "torch.Size([1, 2, 386])\n",
      "100 6\n",
      "torch.Size([1, 10, 386])\n",
      "100 6\n",
      "torch.Size([1, 3, 386])\n",
      "100 6\n",
      "torch.Size([1, 6, 386])\n",
      "100 6\n",
      "torch.Size([1, 1, 386])\n",
      "100 6\n",
      "torch.Size([1, 1, 386])\n",
      "100 6\n",
      "torch.Size([1, 7, 386])\n",
      "100 6\n",
      "torch.Size([1, 5, 386])\n",
      "100 6\n",
      "torch.Size([1, 1, 386])\n",
      "100 6\n",
      "torch.Size([1, 8, 386])\n",
      "100 6\n",
      "torch.Size([1, 0, 2])\n",
      "100 6\n",
      "torch.Size([1, 4, 386])\n",
      "100 6\n",
      "torch.Size([1, 0, 2])\n",
      "100 6\n",
      "torch.Size([1, 8, 386])\n",
      "100 6\n",
      "torch.Size([1, 2, 386])\n",
      "100 6\n",
      "torch.Size([1, 2, 386])\n",
      "100 6\n",
      "torch.Size([1, 0, 2])\n",
      "100 6\n",
      "torch.Size([1, 3, 386])\n",
      "100 6\n",
      "torch.Size([1, 0, 2])\n",
      "100 6\n",
      "torch.Size([1, 0, 2])\n",
      "100 6\n",
      "torch.Size([1, 0, 2])\n",
      "100 6\n",
      "torch.Size([1, 5, 386])\n",
      "100 6\n",
      "torch.Size([1, 1, 386])\n",
      "100 6\n",
      "torch.Size([1, 2, 386])\n",
      "100 6\n",
      "torch.Size([1, 2, 386])\n",
      "100 6\n",
      "torch.Size([1, 0, 2])\n",
      "100 6\n",
      "torch.Size([1, 2, 386])\n",
      "100 6\n",
      "torch.Size([1, 0, 2])\n",
      "100 6\n",
      "torch.Size([1, 1, 386])\n",
      "100 6\n",
      "torch.Size([1, 1, 386])\n",
      "100 6\n",
      "torch.Size([1, 5, 386])\n",
      "100 6\n",
      "torch.Size([1, 0, 2])\n",
      "100 6\n",
      "torch.Size([1, 4, 386])\n",
      "100 6\n",
      "torch.Size([1, 15, 386])\n",
      "100 6\n",
      "torch.Size([1, 2, 386])\n",
      "100 6\n",
      "torch.Size([1, 4, 386])\n",
      "100 6\n",
      "torch.Size([1, 4, 386])\n",
      "100 6\n",
      "torch.Size([1, 1, 386])\n",
      "100 6\n",
      "torch.Size([1, 5, 386])\n",
      "100 6\n",
      "torch.Size([1, 3, 386])\n",
      "100 6\n",
      "torch.Size([1, 7, 386])\n",
      "100 6\n",
      "torch.Size([1, 7, 386])\n",
      "100 6\n",
      "torch.Size([1, 4, 386])\n",
      "100 6\n",
      "torch.Size([1, 3, 386])\n",
      "100 6\n",
      "torch.Size([1, 1, 386])\n",
      "100 6\n",
      "torch.Size([1, 2, 386])\n",
      "100 6\n",
      "torch.Size([1, 1, 386])\n",
      "100 6\n",
      "torch.Size([1, 2, 386])\n",
      "100 6\n",
      "torch.Size([1, 1, 386])\n",
      "100 6\n",
      "torch.Size([1, 2, 386])\n",
      "100 6\n",
      "torch.Size([1, 2, 386])\n",
      "100 6\n",
      "torch.Size([1, 3, 386])\n",
      "100 6\n",
      "torch.Size([1, 3, 386])\n",
      "100 6\n",
      "torch.Size([1, 2, 386])\n",
      "100 6\n",
      "torch.Size([1, 2, 386])\n",
      "100 6\n",
      "torch.Size([1, 0, 2])\n",
      "100 6\n",
      "torch.Size([1, 8, 386])\n",
      "100 6\n",
      "torch.Size([1, 0, 2])\n",
      "100 2\n",
      "torch.Size([1, 4, 386])\n"
     ]
    }
   ],
   "source": [
    "for batchs, batch_num in dataloader:\n",
    "    print(len(batchs), batch_num)\n",
    "    for each_batch in batchs[50:]:\n",
    "        # print(each_batch.embedding.shape)\n",
    "        print(each_batch.target[0].shape)\n",
    "        break"
   ],
   "metadata": {
    "collapsed": false,
    "ExecuteTime": {
     "start_time": "2025-02-07T16:01:51.503983Z",
     "end_time": "2025-02-07T16:01:51.593025Z"
    }
   }
  },
  {
   "cell_type": "code",
   "execution_count": null,
   "outputs": [],
   "source": [],
   "metadata": {
    "collapsed": false
   }
  }
 ],
 "metadata": {
  "kernelspec": {
   "display_name": "Python 3",
   "language": "python",
   "name": "python3"
  },
  "language_info": {
   "codemirror_mode": {
    "name": "ipython",
    "version": 2
   },
   "file_extension": ".py",
   "mimetype": "text/x-python",
   "name": "python",
   "nbconvert_exporter": "python",
   "pygments_lexer": "ipython2",
   "version": "2.7.6"
  }
 },
 "nbformat": 4,
 "nbformat_minor": 0
}
